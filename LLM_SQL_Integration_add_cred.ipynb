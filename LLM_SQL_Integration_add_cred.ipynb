{
 "cells": [
  {
   "cell_type": "raw",
   "id": "4e51634c",
   "metadata": {},
   "source": [
    "!pip3 install openai tiktoken duckdb langchain transformers\n",
    "\n",
    "!pip3 install typing-inspect==0.8.0 typing_extensions==4.5.0"
   ]
  },
  {
   "cell_type": "code",
   "execution_count": 85,
   "id": "92ccc825",
   "metadata": {},
   "outputs": [],
   "source": [
    "import openai  # establish connection with OpenAI API \n",
    "import duckdb # to simulate SQL commands\n",
    "import time, os  #  to load CSV files and reformat certain fields\n",
    "import pandas as pd # data processing "
   ]
  },
  {
   "cell_type": "code",
   "execution_count": 82,
   "id": "47aa9122",
   "metadata": {},
   "outputs": [],
   "source": [
    "key = \"Insert your OpenAI key here....\""
   ]
  },
  {
   "cell_type": "code",
   "execution_count": 8,
   "id": "7e1c1b11",
   "metadata": {},
   "outputs": [
    {
     "data": {
      "text/plain": [
       "['Chicago-crimes-2021.csv',\n",
       " 'Chicago-crimes-2022.csv',\n",
       " 'Chicago-crimes-2023.csv']"
      ]
     },
     "execution_count": 8,
     "metadata": {},
     "output_type": "execute_result"
    }
   ],
   "source": [
    "files = [x for x in os.listdir(path = \"../LLM_SQL\") if \".csv\" in x]\n",
    "files"
   ]
  },
  {
   "cell_type": "code",
   "execution_count": 9,
   "id": "7237ecef",
   "metadata": {},
   "outputs": [
    {
     "data": {
      "text/html": [
       "<div>\n",
       "<style scoped>\n",
       "    .dataframe tbody tr th:only-of-type {\n",
       "        vertical-align: middle;\n",
       "    }\n",
       "\n",
       "    .dataframe tbody tr th {\n",
       "        vertical-align: top;\n",
       "    }\n",
       "\n",
       "    .dataframe thead th {\n",
       "        text-align: right;\n",
       "    }\n",
       "</style>\n",
       "<table border=\"1\" class=\"dataframe\">\n",
       "  <thead>\n",
       "    <tr style=\"text-align: right;\">\n",
       "      <th></th>\n",
       "      <th>ID</th>\n",
       "      <th>Case Number</th>\n",
       "      <th>Date</th>\n",
       "      <th>Block</th>\n",
       "      <th>IUCR</th>\n",
       "      <th>Primary Type</th>\n",
       "      <th>Description</th>\n",
       "      <th>Location Description</th>\n",
       "      <th>Arrest</th>\n",
       "      <th>Domestic</th>\n",
       "      <th>...</th>\n",
       "      <th>Ward</th>\n",
       "      <th>Community Area</th>\n",
       "      <th>FBI Code</th>\n",
       "      <th>X Coordinate</th>\n",
       "      <th>Y Coordinate</th>\n",
       "      <th>Year</th>\n",
       "      <th>Updated On</th>\n",
       "      <th>Latitude</th>\n",
       "      <th>Longitude</th>\n",
       "      <th>Location</th>\n",
       "    </tr>\n",
       "  </thead>\n",
       "  <tbody>\n",
       "    <tr>\n",
       "      <th>0</th>\n",
       "      <td>25953</td>\n",
       "      <td>JE240540</td>\n",
       "      <td>05/24/2021 03:06:00 PM</td>\n",
       "      <td>020XX N LARAMIE AVE</td>\n",
       "      <td>0110</td>\n",
       "      <td>HOMICIDE</td>\n",
       "      <td>FIRST DEGREE MURDER</td>\n",
       "      <td>STREET</td>\n",
       "      <td>True</td>\n",
       "      <td>False</td>\n",
       "      <td>...</td>\n",
       "      <td>36.0</td>\n",
       "      <td>19</td>\n",
       "      <td>01A</td>\n",
       "      <td>1141387.0</td>\n",
       "      <td>1913179.0</td>\n",
       "      <td>2021</td>\n",
       "      <td>11/18/2023 03:39:49 PM</td>\n",
       "      <td>41.917838</td>\n",
       "      <td>-87.755969</td>\n",
       "      <td>(41.917838056, -87.755968972)</td>\n",
       "    </tr>\n",
       "    <tr>\n",
       "      <th>1</th>\n",
       "      <td>26038</td>\n",
       "      <td>JE279849</td>\n",
       "      <td>06/26/2021 09:24:00 AM</td>\n",
       "      <td>062XX N MC CORMICK RD</td>\n",
       "      <td>0110</td>\n",
       "      <td>HOMICIDE</td>\n",
       "      <td>FIRST DEGREE MURDER</td>\n",
       "      <td>PARKING LOT</td>\n",
       "      <td>True</td>\n",
       "      <td>False</td>\n",
       "      <td>...</td>\n",
       "      <td>50.0</td>\n",
       "      <td>13</td>\n",
       "      <td>01A</td>\n",
       "      <td>1152781.0</td>\n",
       "      <td>1941458.0</td>\n",
       "      <td>2021</td>\n",
       "      <td>11/18/2023 03:39:49 PM</td>\n",
       "      <td>41.995219</td>\n",
       "      <td>-87.713355</td>\n",
       "      <td>(41.995219444, -87.713354912)</td>\n",
       "    </tr>\n",
       "    <tr>\n",
       "      <th>2</th>\n",
       "      <td>12342615</td>\n",
       "      <td>JE202211</td>\n",
       "      <td>04/17/2021 03:20:00 PM</td>\n",
       "      <td>081XX S PRAIRIE AVE</td>\n",
       "      <td>0325</td>\n",
       "      <td>ROBBERY</td>\n",
       "      <td>VEHICULAR HIJACKING</td>\n",
       "      <td>RESIDENCE</td>\n",
       "      <td>True</td>\n",
       "      <td>False</td>\n",
       "      <td>...</td>\n",
       "      <td>6.0</td>\n",
       "      <td>44</td>\n",
       "      <td>03</td>\n",
       "      <td>1179448.0</td>\n",
       "      <td>1851073.0</td>\n",
       "      <td>2021</td>\n",
       "      <td>09/14/2023 03:41:59 PM</td>\n",
       "      <td>41.746626</td>\n",
       "      <td>-87.618032</td>\n",
       "      <td>(41.746626309, -87.618031954)</td>\n",
       "    </tr>\n",
       "    <tr>\n",
       "      <th>3</th>\n",
       "      <td>26262</td>\n",
       "      <td>JE366265</td>\n",
       "      <td>09/08/2021 04:45:00 PM</td>\n",
       "      <td>047XX W HARRISON ST</td>\n",
       "      <td>0110</td>\n",
       "      <td>HOMICIDE</td>\n",
       "      <td>FIRST DEGREE MURDER</td>\n",
       "      <td>CAR WASH</td>\n",
       "      <td>True</td>\n",
       "      <td>False</td>\n",
       "      <td>...</td>\n",
       "      <td>24.0</td>\n",
       "      <td>25</td>\n",
       "      <td>01A</td>\n",
       "      <td>1144907.0</td>\n",
       "      <td>1896933.0</td>\n",
       "      <td>2021</td>\n",
       "      <td>09/14/2023 03:41:59 PM</td>\n",
       "      <td>41.873191</td>\n",
       "      <td>-87.743447</td>\n",
       "      <td>(41.873191445, -87.743446563)</td>\n",
       "    </tr>\n",
       "    <tr>\n",
       "      <th>4</th>\n",
       "      <td>13209581</td>\n",
       "      <td>JG422927</td>\n",
       "      <td>08/01/2021 12:00:00 AM</td>\n",
       "      <td>012XX E 78TH ST</td>\n",
       "      <td>1563</td>\n",
       "      <td>SEX OFFENSE</td>\n",
       "      <td>CRIMINAL SEXUAL ABUSE</td>\n",
       "      <td>APARTMENT</td>\n",
       "      <td>False</td>\n",
       "      <td>False</td>\n",
       "      <td>...</td>\n",
       "      <td>8.0</td>\n",
       "      <td>45</td>\n",
       "      <td>17</td>\n",
       "      <td>NaN</td>\n",
       "      <td>NaN</td>\n",
       "      <td>2021</td>\n",
       "      <td>09/14/2023 03:43:09 PM</td>\n",
       "      <td>NaN</td>\n",
       "      <td>NaN</td>\n",
       "      <td>NaN</td>\n",
       "    </tr>\n",
       "  </tbody>\n",
       "</table>\n",
       "<p>5 rows × 22 columns</p>\n",
       "</div>"
      ],
      "text/plain": [
       "         ID Case Number                    Date                  Block  IUCR  \\\n",
       "0     25953    JE240540  05/24/2021 03:06:00 PM    020XX N LARAMIE AVE  0110   \n",
       "1     26038    JE279849  06/26/2021 09:24:00 AM  062XX N MC CORMICK RD  0110   \n",
       "2  12342615    JE202211  04/17/2021 03:20:00 PM    081XX S PRAIRIE AVE  0325   \n",
       "3     26262    JE366265  09/08/2021 04:45:00 PM    047XX W HARRISON ST  0110   \n",
       "4  13209581    JG422927  08/01/2021 12:00:00 AM        012XX E 78TH ST  1563   \n",
       "\n",
       "  Primary Type            Description Location Description  Arrest  Domestic  \\\n",
       "0     HOMICIDE    FIRST DEGREE MURDER               STREET    True     False   \n",
       "1     HOMICIDE    FIRST DEGREE MURDER          PARKING LOT    True     False   \n",
       "2      ROBBERY    VEHICULAR HIJACKING            RESIDENCE    True     False   \n",
       "3     HOMICIDE    FIRST DEGREE MURDER             CAR WASH    True     False   \n",
       "4  SEX OFFENSE  CRIMINAL SEXUAL ABUSE            APARTMENT   False     False   \n",
       "\n",
       "   ...  Ward  Community Area  FBI Code  X Coordinate Y Coordinate  Year  \\\n",
       "0  ...  36.0              19       01A     1141387.0    1913179.0  2021   \n",
       "1  ...  50.0              13       01A     1152781.0    1941458.0  2021   \n",
       "2  ...   6.0              44        03     1179448.0    1851073.0  2021   \n",
       "3  ...  24.0              25       01A     1144907.0    1896933.0  2021   \n",
       "4  ...   8.0              45        17           NaN          NaN  2021   \n",
       "\n",
       "               Updated On   Latitude  Longitude                       Location  \n",
       "0  11/18/2023 03:39:49 PM  41.917838 -87.755969  (41.917838056, -87.755968972)  \n",
       "1  11/18/2023 03:39:49 PM  41.995219 -87.713355  (41.995219444, -87.713354912)  \n",
       "2  09/14/2023 03:41:59 PM  41.746626 -87.618032  (41.746626309, -87.618031954)  \n",
       "3  09/14/2023 03:41:59 PM  41.873191 -87.743447  (41.873191445, -87.743446563)  \n",
       "4  09/14/2023 03:43:09 PM        NaN        NaN                            NaN  \n",
       "\n",
       "[5 rows x 22 columns]"
      ]
     },
     "execution_count": 9,
     "metadata": {},
     "output_type": "execute_result"
    }
   ],
   "source": [
    "chicago_crime = pd.concat((pd.read_csv(\"../LLM_SQL\" +\"/\" + f) for f in files), ignore_index=True)\n",
    "chicago_crime.head()"
   ]
  },
  {
   "cell_type": "raw",
   "id": "2f5fca42",
   "metadata": {},
   "source": [
    "OpenAI API refers to the context as a \"system\" and request as a \"user\""
   ]
  },
  {
   "cell_type": "code",
   "execution_count": 10,
   "id": "9d6df951",
   "metadata": {},
   "outputs": [
    {
     "data": {
      "text/plain": [
       "┌──────────────────────┬─────────────┬─────────┬─────────┬─────────┬─────────┐\n",
       "│     column_name      │ column_type │  null   │   key   │ default │  extra  │\n",
       "│       varchar        │   varchar   │ varchar │ varchar │ varchar │ varchar │\n",
       "├──────────────────────┼─────────────┼─────────┼─────────┼─────────┼─────────┤\n",
       "│ ID                   │ BIGINT      │ YES     │ NULL    │ NULL    │ NULL    │\n",
       "│ Case Number          │ VARCHAR     │ YES     │ NULL    │ NULL    │ NULL    │\n",
       "│ Date                 │ VARCHAR     │ YES     │ NULL    │ NULL    │ NULL    │\n",
       "│ Block                │ VARCHAR     │ YES     │ NULL    │ NULL    │ NULL    │\n",
       "│ IUCR                 │ VARCHAR     │ YES     │ NULL    │ NULL    │ NULL    │\n",
       "│ Primary Type         │ VARCHAR     │ YES     │ NULL    │ NULL    │ NULL    │\n",
       "│ Description          │ VARCHAR     │ YES     │ NULL    │ NULL    │ NULL    │\n",
       "│ Location Description │ VARCHAR     │ YES     │ NULL    │ NULL    │ NULL    │\n",
       "│ Arrest               │ BOOLEAN     │ YES     │ NULL    │ NULL    │ NULL    │\n",
       "│ Domestic             │ BOOLEAN     │ YES     │ NULL    │ NULL    │ NULL    │\n",
       "│ Beat                 │ BIGINT      │ YES     │ NULL    │ NULL    │ NULL    │\n",
       "│ District             │ BIGINT      │ YES     │ NULL    │ NULL    │ NULL    │\n",
       "│ Ward                 │ DOUBLE      │ YES     │ NULL    │ NULL    │ NULL    │\n",
       "│ Community Area       │ BIGINT      │ YES     │ NULL    │ NULL    │ NULL    │\n",
       "│ FBI Code             │ VARCHAR     │ YES     │ NULL    │ NULL    │ NULL    │\n",
       "│ X Coordinate         │ DOUBLE      │ YES     │ NULL    │ NULL    │ NULL    │\n",
       "│ Y Coordinate         │ DOUBLE      │ YES     │ NULL    │ NULL    │ NULL    │\n",
       "│ Year                 │ BIGINT      │ YES     │ NULL    │ NULL    │ NULL    │\n",
       "│ Updated On           │ VARCHAR     │ YES     │ NULL    │ NULL    │ NULL    │\n",
       "│ Latitude             │ DOUBLE      │ YES     │ NULL    │ NULL    │ NULL    │\n",
       "│ Longitude            │ DOUBLE      │ YES     │ NULL    │ NULL    │ NULL    │\n",
       "│ Location             │ VARCHAR     │ YES     │ NULL    │ NULL    │ NULL    │\n",
       "├──────────────────────┴─────────────┴─────────┴─────────┴─────────┴─────────┤\n",
       "│ 22 rows                                                          6 columns │\n",
       "└────────────────────────────────────────────────────────────────────────────┘"
      ]
     },
     "execution_count": 10,
     "metadata": {},
     "output_type": "execute_result"
    }
   ],
   "source": [
    "duckdb.sql(\"DESCRIBE SELECT * FROM chicago_crime;\")"
   ]
  },
  {
   "cell_type": "code",
   "execution_count": 39,
   "id": "d751cdfa",
   "metadata": {},
   "outputs": [
    {
     "data": {
      "text/plain": [
       "'ID BIGINT Case Number VARCHAR Date VARCHAR Block VARCHAR\\n IUCR VARCHAR Primary Type VARCHAR Description VARCHAR\\n Location Description VARCHAR Arrest BOOLEAN Domestic BOOLEAN\\n Beat BIGINT District BIGINT Ward DOUBLE Community Area BIGINT\\n FBI Code VARCHAR X Coordinate DOUBLE Y Coordinate DOUBLE\\n Year BIGINT Updated On VARCHAR Latitude DOUBLE Longitude DOUBLE\\n Location VARCHAR'"
      ]
     },
     "execution_count": 39,
     "metadata": {},
     "output_type": "execute_result"
    }
   ],
   "source": [
    "import re\n",
    "tdf = duckdb.sql(\"DESCRIBE SELECT * FROM chicago_crime;\")\n",
    "df = tdf.to_df()[['column_name','column_type']]\n",
    "df[\"column_joint\"] = df[\"column_name\"] + \" \" +  df[\"column_type\"]\n",
    "x = str(df['column_joint'].values)\n",
    "\n",
    "output_string = re.sub(r\"[',\\[\\]]\", \"\", x)\n",
    "output_string"
   ]
  },
  {
   "cell_type": "code",
   "execution_count": 11,
   "id": "778db762",
   "metadata": {},
   "outputs": [
    {
     "data": {
      "text/plain": [
       "┌──────────────┐\n",
       "│ count_star() │\n",
       "│    int64     │\n",
       "├──────────────┤\n",
       "│       688056 │\n",
       "└──────────────┘"
      ]
     },
     "execution_count": 11,
     "metadata": {},
     "output_type": "execute_result"
    }
   ],
   "source": [
    "duckdb.sql(\"SELECT count(*) FROM chicago_crime;\")"
   ]
  },
  {
   "cell_type": "code",
   "execution_count": 12,
   "id": "16251989",
   "metadata": {},
   "outputs": [
    {
     "data": {
      "text/plain": [
       "┌──────────────┐\n",
       "│ count_star() │\n",
       "│    int64     │\n",
       "├──────────────┤\n",
       "│       208976 │\n",
       "└──────────────┘"
      ]
     },
     "execution_count": 12,
     "metadata": {},
     "output_type": "execute_result"
    }
   ],
   "source": [
    "duckdb.sql(\"SELECT count(*) FROM chicago_crime where year='2021';\")"
   ]
  },
  {
   "cell_type": "code",
   "execution_count": 14,
   "id": "49df287f",
   "metadata": {},
   "outputs": [
    {
     "data": {
      "text/plain": [
       "┌──────────────┐\n",
       "│ Arrest_Total │\n",
       "│    int64     │\n",
       "├──────────────┤\n",
       "│        82297 │\n",
       "└──────────────┘"
      ]
     },
     "execution_count": 14,
     "metadata": {},
     "output_type": "execute_result"
    }
   ],
   "source": [
    "duckdb.sql(\"SELECT count(*) as Arrest_Total FROM chicago_crime where Arrest=True;\")"
   ]
  },
  {
   "cell_type": "code",
   "execution_count": 98,
   "id": "f6417d4c",
   "metadata": {},
   "outputs": [],
   "source": [
    "def create_message(table_name, query):\n",
    "    class message:\n",
    "        def __init__(message, system, user, column_names, column_attr):\n",
    "            message.system = system\n",
    "            message.user = user\n",
    "            message.column_names = column_names\n",
    "            message.column_attr = column_attr\n",
    "            \n",
    "    system_template = \"\"\"\n",
    "    Given the following SQL table, your job is to write SQL queries given a user's request. \\n\n",
    "    create table {} ({}) \\n\n",
    "    \n",
    "    Note : Only SQL Query should be returned, no need to explain the query. \\n\n",
    "    Also there is no requiremnet of any desclaimer or alert or instructions before or after the query.\n",
    "    \"\"\"\n",
    "    \n",
    "    user_template = \"\"\"\n",
    "    Write a SQL query that returns - {} \n",
    "    \"\"\"\n",
    "    \n",
    "    tbl_describe = duckdb.sql(\"DESCRIBE SELECT * FROM \" + table_name +  \";\")\n",
    "    col_attr = tbl_describe.to_df()[['column_name','column_type']]\n",
    "    col_attr[\"column_joint\"] = col_attr[\"column_name\"] + \" \" +  col_attr[\"column_type\"]\n",
    "    col_names = re.sub(r\"[',\\[\\]]\", \"\", str(col_attr[\"column_joint\"].values))\n",
    "    \n",
    "    system = system_template.format(table_name, col_names)\n",
    "    user = user_template.format(query)\n",
    "\n",
    "    m = message(system = system, user = user, \n",
    "                column_names = col_attr[\"column_name\"], \n",
    "                column_attr = col_attr[\"column_type\"])\n",
    "    return m"
   ]
  },
  {
   "cell_type": "code",
   "execution_count": 47,
   "id": "c2e330d3",
   "metadata": {},
   "outputs": [],
   "source": [
    "query = \"How many cases ended up with arrest?\"\n",
    "msg = create_message(table_name = \"chicago_crime\", query = query)"
   ]
  },
  {
   "cell_type": "code",
   "execution_count": 48,
   "id": "7c95ac76",
   "metadata": {},
   "outputs": [
    {
     "name": "stdout",
     "output_type": "stream",
     "text": [
      "\n",
      "    Given the following SQL table, your job is to write SQL queries given a user's request. \n",
      "\n",
      "    create table chicago_crime (ID BIGINT Case Number VARCHAR Date VARCHAR Block VARCHAR\n",
      " IUCR VARCHAR Primary Type VARCHAR Description VARCHAR\n",
      " Location Description VARCHAR Arrest BOOLEAN Domestic BOOLEAN\n",
      " Beat BIGINT District BIGINT Ward DOUBLE Community Area BIGINT\n",
      " FBI Code VARCHAR X Coordinate DOUBLE Y Coordinate DOUBLE\n",
      " Year BIGINT Updated On VARCHAR Latitude DOUBLE Longitude DOUBLE\n",
      " Location VARCHAR) \n",
      "\n",
      "    \n"
     ]
    }
   ],
   "source": [
    "print(msg.system)"
   ]
  },
  {
   "cell_type": "code",
   "execution_count": 49,
   "id": "bc83d8e1",
   "metadata": {},
   "outputs": [
    {
     "name": "stdout",
     "output_type": "stream",
     "text": [
      "\n",
      "    Write a SQL query that returns - How many cases ended up with arrest? \n",
      "    \n"
     ]
    }
   ],
   "source": [
    "print(msg.user)"
   ]
  },
  {
   "cell_type": "code",
   "execution_count": 50,
   "id": "14706da4",
   "metadata": {},
   "outputs": [
    {
     "name": "stdout",
     "output_type": "stream",
     "text": [
      "0                       ID\n",
      "1              Case Number\n",
      "2                     Date\n",
      "3                    Block\n",
      "4                     IUCR\n",
      "5             Primary Type\n",
      "6              Description\n",
      "7     Location Description\n",
      "8                   Arrest\n",
      "9                 Domestic\n",
      "10                    Beat\n",
      "11                District\n",
      "12                    Ward\n",
      "13          Community Area\n",
      "14                FBI Code\n",
      "15            X Coordinate\n",
      "16            Y Coordinate\n",
      "17                    Year\n",
      "18              Updated On\n",
      "19                Latitude\n",
      "20               Longitude\n",
      "21                Location\n",
      "Name: column_name, dtype: object\n"
     ]
    }
   ],
   "source": [
    "print(msg.column_names)"
   ]
  },
  {
   "cell_type": "code",
   "execution_count": 51,
   "id": "a95fceaf",
   "metadata": {
    "scrolled": true
   },
   "outputs": [
    {
     "name": "stdout",
     "output_type": "stream",
     "text": [
      "0      BIGINT\n",
      "1     VARCHAR\n",
      "2     VARCHAR\n",
      "3     VARCHAR\n",
      "4     VARCHAR\n",
      "5     VARCHAR\n",
      "6     VARCHAR\n",
      "7     VARCHAR\n",
      "8     BOOLEAN\n",
      "9     BOOLEAN\n",
      "10     BIGINT\n",
      "11     BIGINT\n",
      "12     DOUBLE\n",
      "13     BIGINT\n",
      "14    VARCHAR\n",
      "15     DOUBLE\n",
      "16     DOUBLE\n",
      "17     BIGINT\n",
      "18    VARCHAR\n",
      "19     DOUBLE\n",
      "20     DOUBLE\n",
      "21    VARCHAR\n",
      "Name: column_type, dtype: object\n"
     ]
    }
   ],
   "source": [
    "print(msg.column_attr)"
   ]
  },
  {
   "cell_type": "code",
   "execution_count": 63,
   "id": "f330309e",
   "metadata": {
    "scrolled": true
   },
   "outputs": [
    {
     "name": "stdout",
     "output_type": "stream",
     "text": [
      "Model(id='text-search-babbage-doc-001', created=1651172509, object='model', owned_by='openai-dev')\n",
      "Model(id='curie-search-query', created=1651172509, object='model', owned_by='openai-dev')\n",
      "Model(id='text-davinci-003', created=1669599635, object='model', owned_by='openai-internal')\n",
      "Model(id='text-search-babbage-query-001', created=1651172509, object='model', owned_by='openai-dev')\n",
      "Model(id='babbage', created=1649358449, object='model', owned_by='openai')\n",
      "Model(id='babbage-search-query', created=1651172509, object='model', owned_by='openai-dev')\n",
      "Model(id='text-babbage-001', created=1649364043, object='model', owned_by='openai')\n",
      "Model(id='text-similarity-davinci-001', created=1651172505, object='model', owned_by='openai-dev')\n",
      "Model(id='davinci-similarity', created=1651172509, object='model', owned_by='openai-dev')\n",
      "Model(id='code-davinci-edit-001', created=1649880484, object='model', owned_by='openai')\n",
      "Model(id='curie-similarity', created=1651172510, object='model', owned_by='openai-dev')\n",
      "Model(id='babbage-search-document', created=1651172510, object='model', owned_by='openai-dev')\n",
      "Model(id='curie-instruct-beta', created=1649364042, object='model', owned_by='openai')\n",
      "Model(id='text-search-ada-doc-001', created=1651172507, object='model', owned_by='openai-dev')\n",
      "Model(id='davinci-instruct-beta', created=1649364042, object='model', owned_by='openai')\n",
      "Model(id='whisper-1', created=1677532384, object='model', owned_by='openai-internal')\n",
      "Model(id='text-similarity-babbage-001', created=1651172505, object='model', owned_by='openai-dev')\n",
      "Model(id='text-search-davinci-doc-001', created=1651172505, object='model', owned_by='openai-dev')\n",
      "Model(id='babbage-similarity', created=1651172505, object='model', owned_by='openai-dev')\n",
      "Model(id='text-embedding-ada-002', created=1671217299, object='model', owned_by='openai-internal')\n",
      "Model(id='davinci-search-query', created=1651172505, object='model', owned_by='openai-dev')\n",
      "Model(id='text-similarity-curie-001', created=1651172507, object='model', owned_by='openai-dev')\n",
      "Model(id='text-davinci-001', created=1649364042, object='model', owned_by='openai')\n",
      "Model(id='text-search-davinci-query-001', created=1651172505, object='model', owned_by='openai-dev')\n",
      "Model(id='ada-search-document', created=1651172507, object='model', owned_by='openai-dev')\n",
      "Model(id='ada-code-search-code', created=1651172505, object='model', owned_by='openai-dev')\n",
      "Model(id='babbage-002', created=1692634615, object='model', owned_by='system')\n",
      "Model(id='davinci-002', created=1692634301, object='model', owned_by='system')\n",
      "Model(id='davinci-search-document', created=1651172509, object='model', owned_by='openai-dev')\n",
      "Model(id='curie-search-document', created=1651172508, object='model', owned_by='openai-dev')\n",
      "Model(id='gpt-4-0613', created=1686588896, object='model', owned_by='openai')\n",
      "Model(id='babbage-code-search-code', created=1651172509, object='model', owned_by='openai-dev')\n",
      "Model(id='text-search-ada-query-001', created=1651172505, object='model', owned_by='openai-dev')\n",
      "Model(id='code-search-ada-text-001', created=1651172507, object='model', owned_by='openai-dev')\n",
      "Model(id='babbage-code-search-text', created=1651172509, object='model', owned_by='openai-dev')\n",
      "Model(id='gpt-4-vision-preview', created=1698894917, object='model', owned_by='system')\n",
      "Model(id='code-search-babbage-code-001', created=1651172507, object='model', owned_by='openai-dev')\n",
      "Model(id='ada-search-query', created=1651172505, object='model', owned_by='openai-dev')\n",
      "Model(id='gpt-3.5-turbo', created=1677610602, object='model', owned_by='openai')\n",
      "Model(id='ada-code-search-text', created=1651172510, object='model', owned_by='openai-dev')\n",
      "Model(id='tts-1-hd', created=1699046015, object='model', owned_by='system')\n",
      "Model(id='text-search-curie-query-001', created=1651172509, object='model', owned_by='openai-dev')\n",
      "Model(id='gpt-3.5-turbo-16k', created=1683758102, object='model', owned_by='openai-internal')\n",
      "Model(id='text-davinci-002', created=1649880484, object='model', owned_by='openai')\n",
      "Model(id='text-davinci-edit-001', created=1649809179, object='model', owned_by='openai')\n",
      "Model(id='code-search-babbage-text-001', created=1651172507, object='model', owned_by='openai-dev')\n",
      "Model(id='ada', created=1649357491, object='model', owned_by='openai')\n",
      "Model(id='text-ada-001', created=1649364042, object='model', owned_by='openai')\n",
      "Model(id='ada-similarity', created=1651172507, object='model', owned_by='openai-dev')\n",
      "Model(id='code-search-ada-code-001', created=1651172507, object='model', owned_by='openai-dev')\n",
      "Model(id='text-similarity-ada-001', created=1651172505, object='model', owned_by='openai-dev')\n",
      "Model(id='gpt-3.5-turbo-0301', created=1677649963, object='model', owned_by='openai')\n",
      "Model(id='gpt-4', created=1687882411, object='model', owned_by='openai')\n",
      "Model(id='gpt-3.5-turbo-16k-0613', created=1685474247, object='model', owned_by='openai')\n",
      "Model(id='text-search-curie-doc-001', created=1651172509, object='model', owned_by='openai-dev')\n",
      "Model(id='text-curie-001', created=1649364043, object='model', owned_by='openai')\n",
      "Model(id='curie', created=1649359874, object='model', owned_by='openai')\n",
      "Model(id='tts-1', created=1681940951, object='model', owned_by='openai-internal')\n",
      "Model(id='gpt-4-0314', created=1687882410, object='model', owned_by='openai')\n",
      "Model(id='davinci', created=1649359874, object='model', owned_by='openai')\n",
      "Model(id='gpt-3.5-turbo-1106', created=1698959748, object='model', owned_by='system')\n",
      "Model(id='gpt-3.5-turbo-instruct-0914', created=1694122472, object='model', owned_by='system')\n",
      "Model(id='gpt-4-1106-preview', created=1698957206, object='model', owned_by='system')\n",
      "Model(id='dall-e-2', created=1698798177, object='model', owned_by='system')\n",
      "Model(id='gpt-3.5-turbo-instruct', created=1692901427, object='model', owned_by='system')\n",
      "Model(id='gpt-3.5-turbo-0613', created=1686587434, object='model', owned_by='openai')\n",
      "Model(id='tts-1-1106', created=1699053241, object='model', owned_by='system')\n",
      "Model(id='tts-1-hd-1106', created=1699053533, object='model', owned_by='system')\n",
      "Model(id='dall-e-3', created=1698785189, object='model', owned_by='system')\n",
      "Model(id='davinci:ft-zuru-2023-05-22-11-29-36', created=1684754976, object='model', owned_by='zuru-13')\n"
     ]
    }
   ],
   "source": [
    "openai.api_key = key\n",
    "\n",
    "for names in openai.models.list():\n",
    "    print(names)"
   ]
  },
  {
   "cell_type": "code",
   "execution_count": 99,
   "id": "2cd0db42",
   "metadata": {},
   "outputs": [],
   "source": [
    "query = \"How many cases ended up with arrest?\"\n",
    "prompt = create_message(table_name = \"chicago_crime\", query = query)\n",
    "\n",
    "\n",
    "client = openai.OpenAI()\n",
    "\n",
    "# to transform the above prompt into the structure of the ChatCompletion.create function messages argument:\n",
    "message = [\n",
    "     {\n",
    "         \"role\": \"system\",\n",
    "         \"content\": prompt.system\n",
    "     },\n",
    "     {\n",
    "         \"role\": \"user\",\n",
    "         \"content\": prompt.user\n",
    "     }]\n",
    "    \n",
    "# now send the prompt (message object) to the API using the ChatCompletion.create function:\n",
    "response = client.chat.completions.create(\n",
    "        model = \"gpt-3.5-turbo\",\n",
    "        messages = message,\n",
    "        temperature = 0,\n",
    "        max_tokens = 256)"
   ]
  },
  {
   "cell_type": "code",
   "execution_count": 100,
   "id": "af8072d3",
   "metadata": {},
   "outputs": [
    {
     "name": "stdout",
     "output_type": "stream",
     "text": [
      "ChatCompletion(id='chatcmpl-8UqyA7NmFKWCK6HM6kC6gXH9M5vUk', choices=[Choice(finish_reason='stop', index=0, message=ChatCompletionMessage(content='SELECT COUNT(*) FROM chicago_crime WHERE Arrest = true;', role='assistant', function_call=None, tool_calls=None))], created=1702364146, model='gpt-3.5-turbo-0613', object='chat.completion', system_fingerprint=None, usage=CompletionUsage(completion_tokens=12, prompt_tokens=168, total_tokens=180))\n"
     ]
    }
   ],
   "source": [
    "print(response)"
   ]
  },
  {
   "cell_type": "code",
   "execution_count": 101,
   "id": "f95e2edb",
   "metadata": {},
   "outputs": [
    {
     "name": "stdout",
     "output_type": "stream",
     "text": [
      "SELECT COUNT(*) FROM chicago_crime WHERE Arrest = true;\n"
     ]
    }
   ],
   "source": [
    "sql_query = response.choices[0].message.content\n",
    "print(sql_query)"
   ]
  },
  {
   "cell_type": "code",
   "execution_count": 103,
   "id": "305c6229",
   "metadata": {},
   "outputs": [
    {
     "name": "stdout",
     "output_type": "stream",
     "text": [
      "┌──────────────┐\n",
      "│ count_star() │\n",
      "│    int64     │\n",
      "├──────────────┤\n",
      "│        82297 │\n",
      "└──────────────┘\n",
      "\n"
     ]
    }
   ],
   "source": [
    "# queyr valudation \n",
    "duckdb.sql(sql_query).show()"
   ]
  },
  {
   "cell_type": "code",
   "execution_count": 104,
   "id": "62d33203",
   "metadata": {},
   "outputs": [],
   "source": [
    "# helper function to add quotes to the variables in the query if the returned query does not have one:\n",
    "def add_quotes(query, col_names):\n",
    "    for i in col_names:\n",
    "        if i in query:\n",
    "            l = query.find(i)\n",
    "            if query[l-1] != \"'\" and query[l-1] != '\"': \n",
    "                query = str(query).replace(i, '\"' + i + '\"') \n",
    "    return(query)"
   ]
  },
  {
   "cell_type": "code",
   "execution_count": 105,
   "id": "a4198b9e",
   "metadata": {},
   "outputs": [
    {
     "data": {
      "text/plain": [
       "'SELECT COUNT(*) FROM chicago_crime WHERE \"Arrest\" = true;'"
      ]
     },
     "execution_count": 105,
     "metadata": {},
     "output_type": "execute_result"
    }
   ],
   "source": [
    "add_quotes(query = sql_query, col_names = prompt.column_names)"
   ]
  },
  {
   "cell_type": "code",
   "execution_count": 106,
   "id": "ddb4c74d",
   "metadata": {},
   "outputs": [],
   "source": [
    "def lang2sql(api_key, table_name, query, model = \"gpt-3.5-turbo\", temperature = 0, \n",
    "             max_tokens = 256, frequency_penalty = 0,presence_penalty= 0):\n",
    "    class response:\n",
    "        def __init__(output, message, response, sql):\n",
    "            output.message = message\n",
    "            output.response = response\n",
    "            output.sql = sql\n",
    "\n",
    "    openai.api_key = api_key\n",
    "\n",
    "    m = create_message(table_name = table_name, query = query)\n",
    "\n",
    "    message = [\n",
    "    {\n",
    "      \"role\": \"system\",\n",
    "      \"content\": m.system\n",
    "    },\n",
    "    {\n",
    "      \"role\": \"user\",\n",
    "      \"content\": m.user\n",
    "    }\n",
    "    ]\n",
    "    \n",
    "    openai_response = client.chat.completions.create(\n",
    "        model = model,\n",
    "        messages = message,\n",
    "        temperature = temperature,\n",
    "        max_tokens = max_tokens,\n",
    "        frequency_penalty=frequency_penalty,\n",
    "        presence_penalty=presence_penalty\n",
    "    )\n",
    "    \n",
    "    sql_query = add_quotes(query = openai_response.choices[0].message.content, col_names = m.column_names)\n",
    "\n",
    "    output = response(message = m, response = openai_response, sql = sql_query)\n",
    "\n",
    "    return output"
   ]
  },
  {
   "cell_type": "code",
   "execution_count": 108,
   "id": "2905058d",
   "metadata": {},
   "outputs": [],
   "source": [
    "query = \"How many cases ended up with arrest?\"\n",
    "response = lang2sql(api_key = key, table_name = \"chicago_crime\", query = query)"
   ]
  },
  {
   "cell_type": "code",
   "execution_count": 110,
   "id": "3b366bb4",
   "metadata": {},
   "outputs": [
    {
     "name": "stdout",
     "output_type": "stream",
     "text": [
      "SELECT COUNT(*) FROM chicago_crime WHERE \"Arrest\" = true;\n"
     ]
    }
   ],
   "source": [
    "print(response.sql)"
   ]
  },
  {
   "cell_type": "code",
   "execution_count": 112,
   "id": "6028ff9d",
   "metadata": {},
   "outputs": [
    {
     "name": "stdout",
     "output_type": "stream",
     "text": [
      "SELECT COUNT(*) FROM chicago_crime WHERE \"Arrest\" = TRUE AND \"Year\" = 2022;\n"
     ]
    }
   ],
   "source": [
    "query = \"How many cases ended up with arrest during 2022\"\n",
    "response = lang2sql(api_key = key, table_name = \"chicago_crime\", query = query)\n",
    "print(response.sql)"
   ]
  },
  {
   "cell_type": "code",
   "execution_count": 115,
   "id": "ae840dd3",
   "metadata": {},
   "outputs": [
    {
     "data": {
      "text/plain": [
       "┌──────────────┐\n",
       "│ count_star() │\n",
       "│    int64     │\n",
       "├──────────────┤\n",
       "│        27845 │\n",
       "└──────────────┘"
      ]
     },
     "execution_count": 115,
     "metadata": {},
     "output_type": "execute_result"
    }
   ],
   "source": [
    "duckdb.sql(response.sql)"
   ]
  },
  {
   "cell_type": "code",
   "execution_count": 117,
   "id": "ba419932",
   "metadata": {},
   "outputs": [
    {
     "name": "stdout",
     "output_type": "stream",
     "text": [
      "SELECT \"Primary Type\", COUNT(*) AS TotalCases\n",
      "FROM chicago_crime\n",
      "GROUP BY \"Primary Type\";\n"
     ]
    }
   ],
   "source": [
    "query = \"Summarize the cases by primary type\"\n",
    "response = lang2sql(api_key = key, table_name = \"chicago_crime\", query = query)\n",
    "\n",
    "print(response.sql)"
   ]
  },
  {
   "cell_type": "code",
   "execution_count": 118,
   "id": "42da8132",
   "metadata": {},
   "outputs": [
    {
     "data": {
      "text/plain": [
       "┌───────────────────────────────────┬────────────┐\n",
       "│           Primary Type            │ TotalCases │\n",
       "│              varchar              │   int64    │\n",
       "├───────────────────────────────────┼────────────┤\n",
       "│ BURGLARY                          │      21113 │\n",
       "│ NARCOTICS                         │      14753 │\n",
       "│ CRIMINAL DAMAGE                   │      80072 │\n",
       "│ INTIMIDATION                      │        529 │\n",
       "│ CRIMINAL TRESPASS                 │      11973 │\n",
       "│ OFFENSE INVOLVING CHILDREN        │       5396 │\n",
       "│ STALKING                          │       1287 │\n",
       "│ PUBLIC PEACE VIOLATION            │       2119 │\n",
       "│ PROSTITUTION                      │        586 │\n",
       "│ ARSON                             │       1415 │\n",
       "│   ·                               │         ·  │\n",
       "│   ·                               │         ·  │\n",
       "│   ·                               │         ·  │\n",
       "│ ROBBERY                           │      27021 │\n",
       "│ WEAPONS VIOLATION                 │      25848 │\n",
       "│ OBSCENITY                         │        130 │\n",
       "│ DECEPTIVE PRACTICE                │      48807 │\n",
       "│ OTHER OFFENSE                     │      42782 │\n",
       "│ ASSAULT                           │      62011 │\n",
       "│ SEX OFFENSE                       │       3539 │\n",
       "│ LIQUOR LAW VIOLATION              │        555 │\n",
       "│ CONCEALED CARRY LICENSE VIOLATION │        536 │\n",
       "│ PUBLIC INDECENCY                  │         13 │\n",
       "├───────────────────────────────────┴────────────┤\n",
       "│ 31 rows (20 shown)                   2 columns │\n",
       "└────────────────────────────────────────────────┘"
      ]
     },
     "execution_count": 118,
     "metadata": {},
     "output_type": "execute_result"
    }
   ],
   "source": [
    "duckdb.sql(response.sql)"
   ]
  },
  {
   "cell_type": "code",
   "execution_count": 120,
   "id": "30e1f8db",
   "metadata": {},
   "outputs": [
    {
     "name": "stdout",
     "output_type": "stream",
     "text": [
      "SELECT COUNT(*) FROM chicago_crime WHERE \"Primary Type\" = 'ROBBERY';\n"
     ]
    }
   ],
   "source": [
    "query = \"How many cases is the type of robbery?\"\n",
    "response = lang2sql(api_key = key, table_name = \"chicago_crime\", query = query)\n",
    "\n",
    "print(response.sql)"
   ]
  },
  {
   "cell_type": "code",
   "execution_count": 121,
   "id": "76239098",
   "metadata": {},
   "outputs": [
    {
     "data": {
      "text/plain": [
       "┌──────────────┐\n",
       "│ count_star() │\n",
       "│    int64     │\n",
       "├──────────────┤\n",
       "│        27021 │\n",
       "└──────────────┘"
      ]
     },
     "execution_count": 121,
     "metadata": {},
     "output_type": "execute_result"
    }
   ],
   "source": [
    "duckdb.sql(response.sql)"
   ]
  }
 ],
 "metadata": {
  "kernelspec": {
   "display_name": "Python 3 (ipykernel)",
   "language": "python",
   "name": "python3"
  },
  "language_info": {
   "codemirror_mode": {
    "name": "ipython",
    "version": 3
   },
   "file_extension": ".py",
   "mimetype": "text/x-python",
   "name": "python",
   "nbconvert_exporter": "python",
   "pygments_lexer": "ipython3",
   "version": "3.9.18"
  }
 },
 "nbformat": 4,
 "nbformat_minor": 5
}
